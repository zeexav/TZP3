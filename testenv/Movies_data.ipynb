{
 "cells": [
  {
   "cell_type": "code",
   "execution_count": null,
   "metadata": {},
   "outputs": [],
   "source": [
    "# Dependencies\n",
    "\n",
    "import pandas as pd\n",
    "import requests\n",
    "import json\n",
    "from pprint import pprint\n",
    "import re\n",
    "import timeit\n",
    "from itertools import chain"
   ]
  },
  {
   "cell_type": "code",
   "execution_count": null,
   "metadata": {},
   "outputs": [],
   "source": [
    "movies_lrg = pd.read_csv('data/data_lrg/movies_lrg.csv')"
   ]
  },
  {
   "cell_type": "code",
   "execution_count": null,
   "metadata": {},
   "outputs": [],
   "source": [
    "print(movies_lrg.shape)\n",
    "\n",
    "movies_lrg.head()"
   ]
  },
  {
   "cell_type": "code",
   "execution_count": null,
   "metadata": {},
   "outputs": [],
   "source": [
    "# check for duplicates\n",
    "\n",
    "dups = movies_lrg['title'].value_counts()\n",
    "\n",
    "# drop duplicates based on movie name\n",
    "# first copy dataframe\n",
    "movies_data = movies_lrg.copy()\n",
    "\n",
    "movies_data.drop_duplicates(subset =\"title\", \n",
    "                     keep = 'first', inplace = True) \n",
    "\n",
    "movies_data.shape"
   ]
  },
  {
   "cell_type": "code",
   "execution_count": null,
   "metadata": {},
   "outputs": [],
   "source": [
    "#split title column into movie name and year \n",
    "\n",
    "movies_year = movies_data['title'].str.split(\"(\",n =1, expand = True) \n",
    "    \n",
    "movies_year.head()\n"
   ]
  },
  {
   "cell_type": "code",
   "execution_count": null,
   "metadata": {},
   "outputs": [],
   "source": [
    "# clean the second column by to show only numeric data\n",
    "\n",
    "movies_year[1] = movies_year[1].str.extract('(\\d+)', expand=True)\n",
    "\n",
    "movies_year[1]"
   ]
  },
  {
   "cell_type": "code",
   "execution_count": null,
   "metadata": {},
   "outputs": [],
   "source": [
    "# add the separated columns back into the original dataset\n",
    "\n",
    "movies_data['movie_nm'] = movies_year[0]\n",
    "movies_data['released'] = movies_year[1]\n",
    "\n",
    "movies_data.head()\n",
    "\n"
   ]
  },
  {
   "cell_type": "code",
   "execution_count": null,
   "metadata": {},
   "outputs": [],
   "source": [
    "# search for nulls\n",
    "\n",
    "missing_info = movies_data.isnull().sum()\n",
    "\n",
    "# remove all rows that contain a null value\n",
    "\n",
    "movies_data.dropna(axis =0, inplace = True)"
   ]
  },
  {
   "cell_type": "code",
   "execution_count": null,
   "metadata": {},
   "outputs": [],
   "source": [
    "# test to ensure dropna was successful\n",
    "missing_info = movies_data.isnull().sum()\n",
    "\n",
    "missing_info"
   ]
  },
  {
   "cell_type": "code",
   "execution_count": null,
   "metadata": {},
   "outputs": [],
   "source": [
    "movies_data.head()"
   ]
  },
  {
   "cell_type": "code",
   "execution_count": null,
   "metadata": {},
   "outputs": [],
   "source": [
    "#drop original title column\n",
    "\n",
    "movies_data.drop(['title'], axis =1,  inplace=True)"
   ]
  },
  {
   "cell_type": "code",
   "execution_count": null,
   "metadata": {},
   "outputs": [],
   "source": [
    "\n",
    "movies_data.head()"
   ]
  },
  {
   "cell_type": "code",
   "execution_count": null,
   "metadata": {},
   "outputs": [],
   "source": [
    "# convert released to numeric and limit the number of movies\n",
    "\n",
    "movies_data['released'] = movies_data['released'].astype(int)\n",
    "\n",
    "movies_data.head()"
   ]
  },
  {
   "cell_type": "code",
   "execution_count": null,
   "metadata": {},
   "outputs": [],
   "source": [
    "# check values for released year\n",
    "released_min = movies_data['released'].min()\n",
    "released_max = movies_data['released'].max()\n",
    "\n",
    "print(released_min, released_max)"
   ]
  },
  {
   "cell_type": "code",
   "execution_count": null,
   "metadata": {},
   "outputs": [],
   "source": [
    "# eliminate rows where released is less than 1888 and greater than 2018\n",
    "\n",
    "movies_data = movies_data.loc[movies_data['released'] >= 1990] \n",
    "\n",
    "movies_data = movies_data.loc[movies_data['released'] <= 2018]\n",
    "\n",
    "released_min = movies_data['released'].min()\n",
    "released_max = movies_data['released'].max()\n",
    "\n",
    "print(released_min, released_max)"
   ]
  },
  {
   "cell_type": "code",
   "execution_count": null,
   "metadata": {},
   "outputs": [],
   "source": [
    "movies_data.head()"
   ]
  },
  {
   "cell_type": "code",
   "execution_count": null,
   "metadata": {},
   "outputs": [],
   "source": [
    "movies_data.to_csv('movies_data.csv', index = False)"
   ]
  },
  {
   "cell_type": "code",
   "execution_count": null,
   "metadata": {},
   "outputs": [],
   "source": [
    "movies_by_year = movies_data.groupby(movies_data['released']).count()\n",
    "\n",
    "movies_by_year"
   ]
  },
  {
   "cell_type": "code",
   "execution_count": null,
   "metadata": {},
   "outputs": [],
   "source": [
    "# find number of movies by year\n",
    "\n",
    "movies_year = dict.fromkeys([1990, 1991 , 1992 , 1993 , 1994 , 1995 , 1996, 1997, 1998 , 1999, \n",
    "               2000 , 2001 , 2002, 2003 , 2004 ,2005, 2006, 2007 , 2008 , 2009, 2010, 2011, 2012, \n",
    "              2013, 2014, 2015, 2016, 2017 , 2018])\n",
    "\n",
    "print(movies_year[2008])\n"
   ]
  },
  {
   "cell_type": "code",
   "execution_count": null,
   "metadata": {},
   "outputs": [],
   "source": [
    "# add the movies released in each year to the movies_year dictionary as values\n",
    "for key in movies_year:\n",
    "    \n",
    "    movies_year[key] = movies_data.loc[movies_data['released'] == key]['movie_nm'].values.tolist()\n",
    "\n",
    "print(movies_year[1990])"
   ]
  },
  {
   "cell_type": "markdown",
   "metadata": {},
   "source": [
    "###### Get other movie data using OMDB API"
   ]
  },
  {
   "cell_type": "code",
   "execution_count": null,
   "metadata": {},
   "outputs": [],
   "source": [
    "# API endpoint\n",
    "url = \"http://www.omdbapi.com/?apikey=INSERTAPIKEY=\"\n"
   ]
  },
  {
   "cell_type": "code",
   "execution_count": null,
   "metadata": {},
   "outputs": [],
   "source": [
    "# test loop on sample data\n",
    "movies_sample = movies_data[0:5]['movie_nm']\n",
    "\n",
    "movies_sample\n",
    "\n",
    "#create a list to store each director\n",
    "movies_results = []\n",
    "for movie in movies_sample:\n",
    "    movie_response = requests.get(url + movie).json()\n",
    "    movies_results.append(movie_response)\n",
    "    \n",
    "movies_results"
   ]
  },
  {
   "cell_type": "markdown",
   "metadata": {},
   "source": [
    "### Call OMDB API to get details for each movie from the movie_lens dataset\n",
    "Because of the size of the dataset, we required thousands of calls to the API. To avoid the API mistaking our calls for an attack on the API and to wait a few minutes between running each loop. I decided to limit the dataset to only movies released from 1990 to 2018 and do pull the data one year at a time.Please note these "
   ]
  },
  {
   "cell_type": "code",
   "execution_count": null,
   "metadata": {},
   "outputs": [],
   "source": [
    "# function to call API for 1990 - 2018. The function will accept the year and a list and return a list\n",
    "\n",
    "def call_omd(year, movie_year):\n",
    "    for movie in movies_year[year]:\n",
    "        try:\n",
    "            movie_response = requests.get(url + movie).json()\n",
    "            movie_year.append(movie_response)\n",
    "        except:\n",
    "            continue\n",
    "    return movie_year\n",
    "\n",
    "# example function call: note that you have to create an empty list before calling the function\n",
    "movies_test = []\n",
    "call_omd(1990, movies_test)\n",
    "    "
   ]
  },
  {
   "cell_type": "code",
   "execution_count": null,
   "metadata": {},
   "outputs": [],
   "source": [
    "# Empty Lists and function call to complete API calls\n",
    "\n",
    "movies_90 = []\n",
    "call_omd(1990, movies_90)    \n",
    "    \n",
    "\n",
    "movies_91 = []\n",
    "call_omd(1991, movies_91)    \n",
    "        \n",
    "\n",
    "movies_92 = []\n",
    "call_omd(1992, movies_92)      \n",
    "\n",
    "movies_93 = []\n",
    "call_omd(1993, movies_93) \n",
    "\n",
    "movies_94 = []\n",
    "call_omd(1994, movies_94) \n",
    "\n",
    "movies_95 = []\n",
    "call_omd(1995, movies_95) \n",
    "    \n",
    "\n",
    "movies_96 = []\n",
    "call_omd(1996, movies_96) \n",
    "\n",
    "\n",
    "movies_97 = []\n",
    "call_omd(1997, movies_97) \n",
    "\n",
    "movies_98 = []\n",
    "call_omd(1998, movies_98) \n",
    "\n",
    "movies_99 = []\n",
    "call_omd(1999, movies_99) \n",
    "\n",
    "movies_00 = []\n",
    "call_omd(2000, movies_00) \n",
    "\n",
    "movies_01 = []\n",
    "call_omd(2001, movies_01) \n",
    "\n",
    "movies_02 = []\n",
    "call_omd(2002, movies_02) \n",
    "\n",
    "movies_03 = []\n",
    "call_omd(2003, movies_03) \n",
    "\n",
    "movies_04 = []\n",
    "call_omd(2004, movies_04) \n",
    "\n",
    "movies_05 = []\n",
    "call_omd(2005, movies_05) \n",
    "\n",
    "movies_06 = []\n",
    "call_omd(2006, movies_06) \n",
    "\n",
    "movies_07 = []\n",
    "call_omd(2007, movies_07) \n",
    "\n",
    "movies_08 = []\n",
    "call_omd(2008, movies_08) "
   ]
  },
  {
   "cell_type": "code",
   "execution_count": null,
   "metadata": {},
   "outputs": [],
   "source": [
    "movies_90_2008 = [movies_90, movies_91, movies_92, movies_93, movies_94, movies_95, \n",
    "                  movies_96, movies_97, movies_98, movies_99,movies_00, movies_01, movies_02, movies_03,\n",
    "                 movies_04, movies_05, movies_06, movies_07, movies_08]"
   ]
  },
  {
   "cell_type": "code",
   "execution_count": null,
   "metadata": {},
   "outputs": [],
   "source": [
    "# convert list of dictionaries to dataframe\n",
    "\n",
    "from itertools import chain\n",
    "movies_90_08_df = pd.DataFrame(list(chain.from_iterable(movies_90_2008)))"
   ]
  },
  {
   "cell_type": "code",
   "execution_count": null,
   "metadata": {},
   "outputs": [],
   "source": [
    "movies_90_08_df.shape"
   ]
  },
  {
   "cell_type": "code",
   "execution_count": null,
   "metadata": {},
   "outputs": [],
   "source": [
    "movies_90_08_df.to_csv('movies_1990_2008.csv')"
   ]
  },
  {
   "cell_type": "markdown",
   "metadata": {},
   "source": [
    "###### Continue tomorrow"
   ]
  },
  {
   "cell_type": "code",
   "execution_count": null,
   "metadata": {},
   "outputs": [],
   "source": [
    "movies_09 = []\n",
    "call_omd(2009, movies_09) \n",
    "\n",
    "movies_10 = []\n",
    "call_omd(2010, movies_10) \n",
    "\n",
    "movies_11 = []\n",
    "call_omd(2011, movies_11) \n",
    "\n",
    "movies_12 = []\n",
    "call_omd(2012, movies_12) \n",
    "\n",
    "movies_13 = []\n",
    "call_omd(2013, movies_13) \n",
    "\n",
    "movies_14 = []\n",
    "call_omd(2014, movies_14) \n",
    "\n",
    "\n",
    "movies_15 = []\n",
    "call_omd(2015, movies_15) \n",
    "\n",
    "movies_16 = []\n",
    "call_omd(2016, movies_16) \n",
    "\n",
    "movies_17 = []\n",
    "call_omd(2017, movies_17) \n",
    "\n",
    "movies_18 = []\n",
    "call_omd(2018, movies_18) "
   ]
  },
  {
   "cell_type": "code",
   "execution_count": null,
   "metadata": {},
   "outputs": [],
   "source": [
    "movies_2009_2018 = [movies_09, movies_10, movies_11, movies_12, movies_13, movies_14,\n",
    "                   movies_15, movies_16, movies_17, movies_18]"
   ]
  },
  {
   "cell_type": "code",
   "execution_count": null,
   "metadata": {},
   "outputs": [],
   "source": [
    "movies_2009_2018_df = pd.DataFrame(list(chain.from_iterable(movies_2009_2018)))"
   ]
  },
  {
   "cell_type": "code",
   "execution_count": null,
   "metadata": {},
   "outputs": [],
   "source": [
    "movies_2009_2018_df.head()"
   ]
  },
  {
   "cell_type": "code",
   "execution_count": null,
   "metadata": {},
   "outputs": [],
   "source": [
    "movies_2009_2018_df.to_csv(\"movies_2009_2018_df.csv\",index=False)"
   ]
  },
  {
   "cell_type": "code",
   "execution_count": null,
   "metadata": {},
   "outputs": [],
   "source": []
  }
 ],
 "metadata": {
  "kernelspec": {
   "display_name": "Python 3",
   "language": "python",
   "name": "python3"
  },
  "language_info": {
   "codemirror_mode": {
    "name": "ipython",
    "version": 3
   },
   "file_extension": ".py",
   "mimetype": "text/x-python",
   "name": "python",
   "nbconvert_exporter": "python",
   "pygments_lexer": "ipython3",
   "version": "3.7.2"
  }
 },
 "nbformat": 4,
 "nbformat_minor": 2
}
